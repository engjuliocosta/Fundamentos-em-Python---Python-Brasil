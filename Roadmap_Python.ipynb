{
  "nbformat": 4,
  "nbformat_minor": 0,
  "metadata": {
    "colab": {
      "name": "Roadmap Python",
      "provenance": [],
      "mount_file_id": "1akWLuqIto_hzDflqDJCZP7hVdBsdhPsD",
      "authorship_tag": "ABX9TyOltjz5kmKVam5NqXnd2wp3",
      "include_colab_link": true
    },
    "kernelspec": {
      "name": "python3",
      "display_name": "Python 3"
    },
    "language_info": {
      "name": "python"
    }
  },
  "cells": [
    {
      "cell_type": "markdown",
      "metadata": {
        "id": "view-in-github",
        "colab_type": "text"
      },
      "source": [
        "<a href=\"https://colab.research.google.com/github/Eng-JulioCosta/Fundamentos-em-Python---Python-Brasil/blob/gh-pages/Roadmap_Python.ipynb\" target=\"_parent\"><img src=\"https://colab.research.google.com/assets/colab-badge.svg\" alt=\"Open In Colab\"/></a>"
      ]
    },
    {
      "cell_type": "markdown",
      "source": [
        "## Resolução de Problemas em Python ##\n",
        "    \n",
        "Problemas sugeridos pela Python Brasil para entender e estudar Python, abordando a conceituação básica de: sintaxe da linguagem, comandos básicos, funções declaradas, funções built-in, lógica de programação, tipos de dados e estrutura de dados, bem como declarações de variáveis.\n",
        "\n",
        "Destaque: Para exercício de geração de relatório de consumo de memória.\n",
        "\n",
        "**Faça uma cópia deste Colab para seu drive**\n",
        " \n",
        "Abra o usuarios.txt;\n",
        "\n",
        "1.   Aqui no Colab, Acesse a pasta sample.data;\n",
        "2.   Crie um arquivo usuarios.txt;\n",
        "3.   Abra o usuarios.txt;\n",
        "4. Cole o seguinte conteúdo: \n",
        "```\n",
        "  alexandre       456123789\n",
        "  anderson        1245698456\n",
        "  antonio         123456456\n",
        "  carlos          91257581\n",
        "  cesar           987458\n",
        "  rosemary        789456125\n",
        "```\n",
        "\n",
        "5. Execute o código;\n",
        "6. Faça alterações a sua vontade.\n",
        "\n",
        "\n",
        "\n",
        "\n",
        "\n"
      ],
      "metadata": {
        "id": "sWZmmgjqEGi4"
      }
    },
    {
      "cell_type": "markdown",
      "source": [
        "# **Geração de Relatório de Consumo de Memória em Servidor**"
      ],
      "metadata": {
        "id": "JVfvlLgNat2B"
      }
    },
    {
      "cell_type": "code",
      "source": [
        "''' Consumo de memória '''\n",
        "\n",
        "lista_de_dados = []\n",
        "\n",
        "def transformar_em_megabytes(tamanho_em_bytes:str) -> float:\n",
        "  return int(tamanho_em_bytes) / ((2 ** 10) ** 2)\n",
        "\n",
        "with open('sample_data/usuarios.txt', 'r') as arquivo:\n",
        "  for linha in arquivo:\n",
        "    linha = linha.strip()\n",
        "    usuario = linha[:15]\n",
        "    tamanho_em_disco = transformar_em_megabytes(linha[16:])\n",
        "    lista_de_dados.append((tamanho_em_disco, usuario))\n",
        "\n",
        "\n",
        "cabecalho ='''ACME Inc.               Uso do espaço em disco pelos usuários\n",
        "------------------------------------------------------------------------\n",
        "Nr.  Usuário        Espaço utilizado     % do uso\n",
        "'''\n",
        "\n",
        "n = int(input('Digite o número de usuários a serem exebidos: '))\n",
        "\n",
        "lista_de_dados.sort(reverse=True)\n",
        "lista_de_dados = lista_de_dados[:n]\n",
        "\n",
        "with open('sample_data/relatorio.txt', 'w') as arquivo:\n",
        "  tamanho_total_consumido = sum([tamanho for tamanho,_ in lista_de_dados])\n",
        "  media = tamanho_total_consumido / len(lista_de_dados)  \n",
        "  arquivo.writelines(cabecalho)\n",
        "  for indice, dados in enumerate(lista_de_dados, start=1):\n",
        "    tamanho_em_disco, usuario = dados\n",
        "    arquivo.writelines(\n",
        "              f'{indice:<4} {usuario} {tamanho_em_disco:9.2f} MB           '\n",
        "              f'{tamanho_em_disco/tamanho_total_consumido:<6.2%}\\n'\n",
        "                       )\n",
        "  arquivo.writelines('\\n')\n",
        "  arquivo.writelines(f'Espaço total ocupado: {tamanho_total_consumido:.2f} MB\\n')\n",
        "  arquivo.writelines(f'Espaço médio ocupado: {media:.2f} MB') \n"
      ],
      "metadata": {
        "id": "e6e85NOPMBT5",
        "colab": {
          "base_uri": "https://localhost:8080/"
        },
        "outputId": "9db2d20f-e03c-43fc-a952-112f55995ccd"
      },
      "execution_count": null,
      "outputs": [
        {
          "name": "stdout",
          "output_type": "stream",
          "text": [
            "Digite o número de usuários a serem exebidos: 2\n"
          ]
        }
      ]
    },
    {
      "cell_type": "code",
      "source": [
        "# Por padrão, quando não referenciado, python recebe nas variáveis strings, para isso não acontecer deve utilizar a função int()"
      ],
      "metadata": {
        "id": "EimUS0layWHp"
      },
      "execution_count": null,
      "outputs": []
    },
    {
      "cell_type": "code",
      "source": [
        "# Exercício 1\n",
        "\n",
        "print('olá Mundo') # print() é uma função built-in do Python, ele pede um parâmetro de qualquer tipo de dado, string, flutuante ou inteiro, bem como estrutura de dados e imprime na tela\n",
        "\n",
        "# Exercício 1.1 \n",
        "\n",
        "type('Olá Mundo') # type() é uma função built do Python, ele pede um parâmetro e retorna o tipo desse dado e sua locação na memmória\n",
        "\n",
        "# Exercício 2\n",
        "\n",
        "numero = input('Digite um número: ') # Cria-se uma variável número que recebe um número do usuário a atráves da função built-in input(), por padrão input recebe um dado do tipo string\n",
        "print(f'O número declarado é: {numero}')\n",
        "\n",
        "# Exercício 2.1\n",
        "\n",
        "numero = int(input('Digite um número: ')) # Cria-se uma variável número que recebe um número do usuário a atráves da função built-in input, por padrão input recebe um dado do tipo string, neste caso, utiliza-se a função buint-in int() que aceita como parâmetros dados a serem transformados em dados inteiros, assim como a função float()\n",
        "print(f'O número declarado é: {numero}') # f'{}' é f string ou format string, é uma forma de retornar variáveis.\n",
        "\n",
        "# Exercício 3 \n",
        "\n",
        "numero_1 = int(input('Digite o primeiro número: '))\n",
        "numero_2 = int(input('Digite o segundo número: '))\n",
        "\n",
        "type(numero_1) # Mesmo declarando-se uma variável a função type retorna o tipo do dado alocado na memória\n",
        "\n",
        "soma = numero_1 + numero_2\n",
        "\n",
        "print(f'A soma do primeiro e segundo número é {soma}')\n",
        "\n",
        "type(soma) # Mesmo declarando-se uma variável a função type retorna o tipo do dado alocado na memória"
      ],
      "metadata": {
        "id": "lAThIKN0yptN",
        "colab": {
          "base_uri": "https://localhost:8080/"
        },
        "outputId": "6b171e71-e2ad-4a86-af3c-0464c18536bf"
      },
      "execution_count": null,
      "outputs": [
        {
          "output_type": "stream",
          "name": "stdout",
          "text": [
            "olá Mundo\n",
            "Digite um número: 5\n",
            "O número declarado é: 5\n",
            "Digite um número: 6\n",
            "O número declarado é: 6\n",
            "Digite o primeiro número: 7\n",
            "Digite o segundo número: 7\n",
            "A soma do primeiro e segundo número é 14\n"
          ]
        },
        {
          "output_type": "execute_result",
          "data": {
            "text/plain": [
              "int"
            ]
          },
          "metadata": {},
          "execution_count": 3
        }
      ]
    },
    {
      "cell_type": "code",
      "source": [
        "''' Desafio 1\n",
        "  Automatizar a compra de tintas para um reforma de modo que haja pouco desperdício\n",
        "'''\n",
        "import math # Importação da biblioteca math que disponibiliza inúmeros métodos matemáticos para resoluções de problemas\n",
        "\n",
        "# Determinando a área a ser pintada com o máximo de tinta disponível:\n",
        "''' Desafio 1.1 ''' \n",
        "area_para_pintar = int(input('Digite a área em metros quadrados a serem pintada: ')) # Área em m²\n",
        "area_com_tolerancia = area_para_pintar * 1.1 # Exceder para permitir uma quebra de 10% na compra de tintas para pintar a parede\n",
        "litros_por_metro = 6 # 6 litros por metros a serem utilizados\n",
        "litros_disponiveis = area_com_tolerancia / litros_por_metro\n",
        "litros_por_lata = 18 # Quantidade de litros de tinta na lata unitária\n",
        "numero_de_latas = math.ceil(litros_disponiveis / litros_por_lata)\n",
        "preco_das_latas = numero_de_latas * 80 # Quantidade de latas vezes o valor unitário de latas para determinar o custo total da reforma da pintura\n",
        "print(f'Você deverá usar {numero_de_latas} latas de 18 litros, no valor de R$ {preco_das_latas}')\n",
        "\n",
        "# Caso pudessemos utilizar variados tamanhos de tintas\n",
        "\n",
        "''' Desafio 1.2 '''\n",
        "litros_por_galao = 3.6\n",
        "numero_de_galao = math.ceil(litros_disponiveis / litros_por_galao)\n",
        "preco_dos_galoes = numero_de_galao * 25\n",
        "print(f'Você deverá usar {numero_de_galao} latas de 3,6 litros, no valor de R$ {preco_dos_galoes}')\n",
        "\n",
        "# Caso podessemos utilizar ambas os tamanhos de tintas\n",
        "\n",
        "'''Desafio 1.3 '''\n",
        "numero_de_latas = math.floor(litros_disponiveis / litros_por_lata)\n",
        "preco_das_latas = numero_de_latas * 80\n",
        "litros_faltantes = litros_disponiveis % litros_por_lata\n",
        "numero_de_galao = math.ceil(litros_faltantes / litros_por_galao)\n",
        "preco_dos_galoes = numero_de_galao * 25\n",
        "\n",
        "valor_total = preco_das_latas + preco_dos_galoes\n",
        "\n",
        "print(f'Você deverá usar {numero_de_latas} latas de 18 litros e {numero_de_galao} latas de 3,6 litros, no valor de R$ {valor_total}')\n",
        "\n",
        "\n",
        "\n"
      ],
      "metadata": {
        "colab": {
          "base_uri": "https://localhost:8080/"
        },
        "id": "U7RwAHvjXlGT",
        "outputId": "68e39bdf-af89-4dba-ee4c-8d3d6e3df94f"
      },
      "execution_count": null,
      "outputs": [
        {
          "output_type": "stream",
          "name": "stdout",
          "text": [
            "Digite a área em metros quadrados a serem pintada: 340\n",
            "Você deverá usar 4 latas de 18 litros, no valor de R$ 320\n",
            "Você deverá usar 18 latas de 3,6 litros, no valor de R$ 450\n",
            "Você deverá usar 3 latas de 18 litros e 3 latas de 3,6 litros, no valor de R$ 315\n"
          ]
        }
      ]
    },
    {
      "cell_type": "code",
      "source": [
        "# Exercício 3 \n",
        "True, False\n",
        "print(5<6)\n",
        "print(5>6)\n",
        "print('m' == 'n')\n",
        "print('M' == 'M')\n",
        "print(5!=6)\n",
        "print('Julio'.lower(), 'Julio'.upper()) "
      ],
      "metadata": {
        "id": "FOF_HRUTbZTN",
        "colab": {
          "base_uri": "https://localhost:8080/"
        },
        "outputId": "c377f03e-49d7-48c4-f97c-884f9dd7a223"
      },
      "execution_count": null,
      "outputs": [
        {
          "output_type": "stream",
          "name": "stdout",
          "text": [
            "True\n",
            "False\n",
            "False\n",
            "True\n",
            "True\n",
            "julio JULIO\n"
          ]
        }
      ]
    },
    {
      "cell_type": "code",
      "source": [
        "sexo = input('Digite o sexo: Feminino [F], Masculino [M], Queer [Q]: ').upper()\n",
        "\n",
        "if sexo == 'M': # Compara a partir de uma condição de igualdade entre F == M\n",
        "  print('Masculino')\n",
        "elif sexo == 'F':\n",
        "  print('Feminino')\n",
        "elif sexo == 'Q':\n",
        "  print('Queer')\n",
        "else:\n",
        "  print('Não é uma opção válida')\n",
        "\n",
        "print('Finalizado o programa')\n",
        "\n"
      ],
      "metadata": {
        "colab": {
          "base_uri": "https://localhost:8080/"
        },
        "id": "VXmRVtgBOXhW",
        "outputId": "6894c3f6-a6e7-4a36-9cc0-823bc78abcc8"
      },
      "execution_count": null,
      "outputs": [
        {
          "output_type": "stream",
          "name": "stdout",
          "text": [
            "Digite o sexo: Feminino [F], Masculino [M], Queer [Q]: M\n",
            "Masculino\n",
            "Finalizado o programa\n"
          ]
        }
      ]
    },
    {
      "cell_type": "code",
      "source": [
        "''' Desafio 2 '''\n",
        "\n",
        "nota_1 = float(input(\"Qual a nota da primeira Prova - P1: \"))\n",
        "nota_2 = float(input(\"Qual a nota da segunda Prova - P2: \"))\n",
        "media = (nota_1 + nota_2)/2\n",
        "\n",
        "if 7 < media < 9.99:\n",
        "  print(f'Aluno aprovado na média: {media}')\n",
        "elif media >= 10:\n",
        "  print(f'Aluno aprovado com distinção: {media}')\n",
        "else:\n",
        "  print(f'Aluno necessita de recuperação, a nota nédia {media} é menor do que a média 7')\n",
        "\n"
      ],
      "metadata": {
        "id": "--tzWTwYQZHd",
        "colab": {
          "base_uri": "https://localhost:8080/"
        },
        "outputId": "c1e9a020-3c61-46f5-feb1-0204e5c98793"
      },
      "execution_count": null,
      "outputs": [
        {
          "output_type": "stream",
          "name": "stdout",
          "text": [
            "Qual a nota da primeira Prova - P1: 7\n",
            "Qual a nota da segunda Prova - P2: 5\n",
            "Aluno necessita de recuperação, a nota nédia 6.0 é menor do que a média 7\n"
          ]
        }
      ]
    },
    {
      "cell_type": "code",
      "source": [
        "# Exercício 19\n",
        "\n",
        "numero = float(input('Digite um valor'))\n",
        "centenas_str = dezenas_str = unidades_str = ''\n",
        "\n",
        "centenas_int, numero = divmod(numero, 100)\n",
        "\n",
        "partes_decimais = 0\n",
        "\n",
        "if centenas_int == 1:\n",
        "  centenas_str = '1 centana'\n",
        "  partes_decimais += 1\n",
        "elif centenas_int > 1:\n",
        "  centenas_str = f'{centenas_int} centena(s)'\n",
        "  partes_decimais += 1\n",
        "\n",
        "dezenas_int, numero = divmod(numero, 10)\n",
        "\n",
        "if dezenas_int == 1:\n",
        "  dezenas_str = '1 centana'\n",
        "  partes_decimais += 1\n",
        "elif dezenas_int > 1:\n",
        "  dezenas_str = f'{dezenas_int} dezena(s)'\n",
        "  partes_decimais += 1\n",
        "\n",
        "if numero == 1:\n",
        "  unidades_str = '1 unidade'\n",
        "  partes_decimais += 1\n",
        "elif numero > 1:\n",
        "  unidades_str = f'{numero} unidade(s)'\n",
        "  partes_decimais += 1\n",
        "\n",
        "if partes_decimais == 0:\n",
        "  print('Número 0 não possui centenas, dezenas ou unidades')\n",
        "elif partes_decimais == 1:\n",
        "  print(centenas_str + dezenas_str + unidades_str)\n",
        "elif partes_decimais == 3:\n",
        "  print(f'{centenas_str}, {dezenas_str} e {unidades_str}')\n",
        "elif partes_decimais == 2:\n",
        "  if centenas_str != '':\n",
        "    segunda_parte = dezenas_str + unidades_str\n",
        "    print(f'{centenas_str} e {segunda_parte}')\n",
        "  else:\n",
        "    print(f'{dezenas_str} e {unidades_str}')\n",
        "\n",
        "\n"
      ],
      "metadata": {
        "id": "Zc7yQeUTnojl",
        "colab": {
          "base_uri": "https://localhost:8080/"
        },
        "outputId": "a0c2f61f-a11b-4b89-8b65-4a044c33bdb5"
      },
      "execution_count": null,
      "outputs": [
        {
          "output_type": "stream",
          "name": "stdout",
          "text": [
            "Digite um valor450.5\n",
            "4.0 centena(s) e 5.0 dezena(s)\n"
          ]
        }
      ]
    },
    {
      "cell_type": "code",
      "source": [
        "''' Desafio 4 '''\n",
        "\n",
        "saque = int(input('Quantia: '))\n",
        "notas_de_100 = notas_de_50 = notas_de_10 = notas_de_5 = notas_de_1 = 0\n",
        "\n",
        "notas_de_100, saque = divmod(saque, 100)\n",
        "\n",
        "notas_de_50, saque = divmod(saque, 50)\n",
        "\n",
        "notas_de_10, saque = divmod(saque, 10)\n",
        "\n",
        "notas_de_5, notas_de_1 = divmod(saque, 5)\n",
        "\n",
        "if notas_de_100 > 0:\n",
        "  print(f'{notas_de_100} nota(s) de 100')\n",
        "\n",
        "if notas_de_50 > 0:\n",
        "  print(f'{notas_de_50} nota(s) de 50')\n",
        "\n",
        "if notas_de_10 > 0:\n",
        "  print(f'{notas_de_10} nota(s) de 10')\n",
        "\n",
        "if notas_de_5 > 0:\n",
        "  print(f'{notas_de_5} nota(s) de 5')\n",
        "\n",
        "if notas_de_1 > 0:\n",
        "  print(f'{notas_de_1} nota(s) de 1')\n"
      ],
      "metadata": {
        "colab": {
          "base_uri": "https://localhost:8080/"
        },
        "id": "v1raxOYlAljM",
        "outputId": "d4731f1b-5665-47a4-c60b-c40a8bc8683e"
      },
      "execution_count": null,
      "outputs": [
        {
          "output_type": "stream",
          "name": "stdout",
          "text": [
            "Quantia: 50\n",
            "1 nota(s) de 50\n"
          ]
        }
      ]
    },
    {
      "cell_type": "code",
      "source": [
        "# Exercício 1\n",
        "\n",
        "while True:\n",
        "\n",
        "  try:\n",
        "    numero = int(input('informe um valor inteiro e válido de 0 a 10: '))\n",
        "  except ValueError:\n",
        "    print('Forneça um número válido')\n",
        "  else:\n",
        "    if 0 <= numero <= 10:\n",
        "      print(f'Número informado é válido: {numero}')\n",
        "      break\n",
        "    else:\n",
        "      print('o numero deve ser inteiro e estar entre 0 e 10')"
      ],
      "metadata": {
        "id": "m-nmTxKlJyQu",
        "colab": {
          "base_uri": "https://localhost:8080/"
        },
        "outputId": "1019c626-70a9-469d-bcd3-c1d4e618916f"
      },
      "execution_count": null,
      "outputs": [
        {
          "output_type": "stream",
          "name": "stdout",
          "text": [
            "informe um valor inteiro e válido de 0 a 10: 22\n",
            "o numero deve ser inteiro e estar entre 0 e 10\n",
            "informe um valor inteiro e válido de 0 a 10: 3\n",
            "Número informado é válido: 3\n"
          ]
        }
      ]
    },
    {
      "cell_type": "code",
      "source": [
        "''' Desafio 4 '''\n",
        "\n",
        "populacao_a = 80_000\n",
        "populacao_b = 200_000\n",
        "taxa_de_crescimento_de_a = 1.03\n",
        "taxa_de_crescimento_de_b = 1.015\n",
        "anos = 0\n",
        "\n",
        "while populacao_a < populacao_b:\n",
        "  \n",
        "  '''print(f'_ _ _ Populações no ano {anos} _ _ _')\n",
        "  print(f'\\ \\ \\ População de A: {populacao_a} / / /')\n",
        "  print(f'/ / / População de B: {populacao_b} / / /')'''\n",
        "  anos += 1\n",
        "  \n",
        "  populacao_a = int(populacao_a * taxa_de_crescimento_de_a)\n",
        "  populacao_b = int(populacao_b * taxa_de_crescimento_de_b)\n",
        "\n",
        "print(f'_ _ _ Populações no ano {anos} _ _ _')\n",
        "print(f'\\ \\ \\ População de A: {populacao_a} / / /')\n",
        "print(f'/ / / População de B: {populacao_b} / / /')\n"
      ],
      "metadata": {
        "id": "0ExRzaMCxFVK"
      },
      "execution_count": null,
      "outputs": []
    },
    {
      "cell_type": "code",
      "source": [
        "6# Exercício 7\n",
        "\n",
        "maximo = float(input('Digite um número: '))\n",
        "\n",
        "for _ in range(3): # intervalo aberto não inclui o valor 4, ou seja, varre os números até o 4, mas não apresenta o 4, variando de 0 a 3.999999999999999, trava as análises em 3\n",
        "  maximo = max(maximo, float(input('Digite um número: ')))\n",
        "  print(f'Número máximo encontrado até o momento é: {maximo}') "
      ],
      "metadata": {
        "id": "sdF4NGQ_2UxG"
      },
      "execution_count": null,
      "outputs": []
    },
    {
      "cell_type": "code",
      "source": [
        "# Exercício 7\n",
        "\n",
        "soma = float(input('Digite um número: '))\n",
        "\n",
        "for n in range(2, 6):\n",
        "  soma += float(input('Digite um número: '))\n",
        "  media = soma / n\n",
        "  print(f'A soma dos números é {soma}, e a média é {media}') \n"
      ],
      "metadata": {
        "id": "pjvFHKt56kEP"
      },
      "execution_count": null,
      "outputs": []
    },
    {
      "cell_type": "code",
      "source": [
        "# Exercício 1 - Listas\n",
        "\n",
        "lst = []\n",
        "\n",
        "for _ in range(5):\n",
        "  numero = float(input('Digite um número: '))\n",
        "  lst.append(numero)\n",
        "print(lst)"
      ],
      "metadata": {
        "colab": {
          "base_uri": "https://localhost:8080/"
        },
        "id": "bF0lV-lqagel",
        "outputId": "7b5c31b3-3a45-4957-8ad2-efb3b2a97e70"
      },
      "execution_count": null,
      "outputs": [
        {
          "output_type": "stream",
          "name": "stdout",
          "text": [
            "Digite um número: 4.9\n",
            "Digite um número: 4.5\n",
            "Digite um número: 4\n",
            "Digite um número: 1\n",
            "Digite um número: 3\n",
            "[4.9, 4.5, 4.0, 1.0, 3.0]\n"
          ]
        }
      ]
    },
    {
      "cell_type": "code",
      "source": [
        "''' Desafio 2 '''\n",
        "\n",
        "lst = []\n",
        "\n",
        "for _ in range(3):\n",
        "  numero = int(input('Digite um número: '))\n",
        "  lst.append(numero)\n",
        "  lst.reverse()\n",
        "print(lst)"
      ],
      "metadata": {
        "colab": {
          "base_uri": "https://localhost:8080/"
        },
        "id": "E3-JrU5-bXhj",
        "outputId": "72c95889-0d92-41b6-c3d7-25d0a3004d52"
      },
      "execution_count": null,
      "outputs": [
        {
          "output_type": "stream",
          "name": "stdout",
          "text": [
            "Digite um número: 5\n",
            "Digite um número: 4\n",
            "Digite um número: 3\n",
            "[3, 5, 4]\n"
          ]
        }
      ]
    },
    {
      "cell_type": "code",
      "source": [
        "# Exercício 15\n",
        "\n",
        "notas = [10, 5.5, 7, 9]\n",
        "\n",
        "while True:\n",
        "  entrada = input('Digite uma nota: ')\n",
        "  if entrada == '-1':\n",
        "    break\n",
        "  notas.append(float(entrada))\n",
        "\n",
        "tamanho = len(notas)\n",
        "print(f'Foram lidas {tamanho} notas')\n",
        "print(' '.join([str(nota) for nota in notas]))\n",
        "notas.reverse()\n",
        "\n",
        "for nota in notas:\n",
        "  print(nota)\n",
        "\n",
        "soma = sum(notas)\n",
        " \n",
        "media = soma / tamanho\n",
        "\n",
        "print(f'Média das notas é: {media}')\n",
        "\n",
        "print(' '.join([str(nota) for nota in notas if nota > media]))\n",
        "\n",
        "print('Notas a abaixo de 7 é(são): ',' '.join([str(nota) for nota in notas if nota < 7]))"
      ],
      "metadata": {
        "id": "Bdib8MSrdcvx",
        "colab": {
          "base_uri": "https://localhost:8080/"
        },
        "outputId": "1ca0d45b-c4f8-4786-b9dc-51b0a8debca1"
      },
      "execution_count": null,
      "outputs": [
        {
          "output_type": "stream",
          "name": "stdout",
          "text": [
            "Digite uma nota: 6\n",
            "Digite uma nota: 5\n",
            "Digite uma nota: 9\n",
            "Digite uma nota: 4\n",
            "Digite uma nota: -1\n",
            "Foram lidas 8 notas\n",
            "10 5.5 7 9 6.0 5.0 9.0 4.0\n",
            "4.0\n",
            "9.0\n",
            "5.0\n",
            "6.0\n",
            "9\n",
            "7\n",
            "5.5\n",
            "10\n",
            "Média das notas é: 6.9375\n",
            "9.0 9 7 10\n",
            "Notas a abaixo de 7 é(são):  4.0 5.0 6.0 5.5\n"
          ]
        }
      ]
    },
    {
      "cell_type": "code",
      "source": [
        "''' Desafio 16 '''\n",
        "\n",
        "salarios = [200, 250, 320, 413, 516, 680, 791, 877, 999, 1000, 2000, 3000]\n",
        "contagem_faixa_salarial = [0] * 9\n",
        "\n",
        "for salario in salarios:\n",
        "  indice = salario // 100 - 2\n",
        "  indice_maximo = len(contagem_faixa_salarial) - 1\n",
        "  indice = min(indice, indice_maximo)\n",
        "  contagem_faixa_salarial[indice] += 1\n",
        "\n",
        "print(contagem_faixa_salarial)"
      ],
      "metadata": {
        "colab": {
          "base_uri": "https://localhost:8080/"
        },
        "id": "LpIAZ0vMe193",
        "outputId": "8b7cae5d-bbc4-40c3-f9d8-762e5a62fc2a"
      },
      "execution_count": null,
      "outputs": [
        {
          "output_type": "stream",
          "name": "stdout",
          "text": [
            "[2, 1, 1, 1, 1, 1, 1, 1, 3]\n"
          ]
        }
      ]
    },
    {
      "cell_type": "code",
      "source": [
        "# Exercício 1\n",
        "\n",
        "def imprime_triangulo_de_numero(n: int):\n",
        "  for i in range(1, n + 1):\n",
        "    for _ in range(i):\n",
        "      print(i, end='    ')\n",
        "    print('')\n",
        "\n",
        "  print('Triângulo com: ', n)\n",
        "\n",
        "imprime_triangulo_de_numero(5)"
      ],
      "metadata": {
        "id": "IbBjtWHhk4qC"
      },
      "execution_count": null,
      "outputs": []
    },
    {
      "cell_type": "code",
      "source": [
        "''' Desafio 2 '''\n",
        "\n",
        "def calcula_linha_triangulo_de_numero(n: int):\n",
        "  print('Triângulo com: ', n)\n",
        "  for linha in range(1, n + 1):\n",
        "    for coluna in range(1, linha +1):\n",
        "      print(coluna, end='    ')\n",
        "    print('')\n",
        "\n",
        "\n",
        "calcula_linha_triangulo_de_numero(5)\n"
      ],
      "metadata": {
        "colab": {
          "base_uri": "https://localhost:8080/"
        },
        "id": "1EN_5KZCjJDf",
        "outputId": "8981dd0b-1d3b-4cf4-8347-bceea638b240"
      },
      "execution_count": null,
      "outputs": [
        {
          "output_type": "stream",
          "name": "stdout",
          "text": [
            "Triângulo com:  5\n",
            "1    \n",
            "1    2    \n",
            "1    2    3    \n",
            "1    2    3    4    \n",
            "1    2    3    4    5    \n"
          ]
        }
      ]
    },
    {
      "cell_type": "code",
      "source": [
        "# Exercício 1\n",
        "\n",
        "s1 = input('Digite um nome qualquer: ')\n",
        "s2 = input('Digite um nome qualquer: ')\n",
        "\n",
        "tamanho1 = len(s1)\n",
        "tamanho2 = len(s2)\n",
        "\n",
        "print(f'\"{s1}\": {tamanho1} caracteres')\n",
        "print(f'\"{s2}\": {tamanho2} caracteres')\n",
        "\n",
        "comparacao_de_tamanho = 'diferente'\n",
        "comparacao_de_conteudo = 'diferente'\n",
        "\n",
        "if s1 == s2:\n",
        "  comparacao_de_tamanho = 'iguais'\n",
        "  comparacao_de_conteudo = 'igual'\n",
        "elif tamanho1 == tamanho2:\n",
        "  comparacao_de_tamanho = 'iguais'\n",
        "\n",
        "\n",
        "print(f'As duas strings são de tamanhos {comparacao_de_tamanho}.')\n",
        "print(f'As duas strings possuem conteúdo {comparacao_de_conteudo}.')"
      ],
      "metadata": {
        "colab": {
          "base_uri": "https://localhost:8080/"
        },
        "id": "iFM-jNuvpxMc",
        "outputId": "635becd9-6fe5-4c7f-a0c9-d7173dc0a958"
      },
      "execution_count": null,
      "outputs": [
        {
          "output_type": "stream",
          "name": "stdout",
          "text": [
            "Digite um nome qualquer: ABCD\n",
            "Digite um nome qualquer: asdffdgfghbhhgg\n",
            "\"ABCD\": 4 caracteres\n",
            "\"asdffdgfghbhhgg\": 15 caracteres\n",
            "As duas strings são de tamanhos diferente.\n",
            "As duas strings possuem conteúdo diferente.\n"
          ]
        }
      ]
    },
    {
      "cell_type": "code",
      "source": [
        "''' Desafio 2 '''\n",
        "\n",
        "nome = 'júlio cezar costa alves'.upper()\n",
        "\n",
        "nome_com_letras_invertidas = ''.join(reversed(nome))\n",
        "\n",
        "nome_com_palavras_invertidas = ' '.join(reversed((nome.split())))\n",
        "\n",
        "print(f'Nome com letras em maiúsculas: {nome}')\n",
        "print(f'Nome com letras em maiúsculas e com letras de trás para frente: {nome_com_letras_invertidas}')\n",
        "print(f'Nome com letras em maiúsculas e com palavras invertidas: {nome_com_palavras_invertidas}')\n"
      ],
      "metadata": {
        "colab": {
          "base_uri": "https://localhost:8080/"
        },
        "id": "FlLjJ6Oxq9i2",
        "outputId": "be4623f6-10d2-4d18-ead5-7e86f3823214"
      },
      "execution_count": null,
      "outputs": [
        {
          "output_type": "stream",
          "name": "stdout",
          "text": [
            "Nome com letras em maiúsculas: JÚLIO CEZAR COSTA ALVES\n",
            "Nome com letras em maiúsculas e com letras de trás para frente: SEVLA ATSOC RAZEC OILÚJ\n",
            "Nome com letras em maiúsculas e com palavras invertidas: ALVES COSTA CEZAR JÚLIO\n"
          ]
        }
      ]
    },
    {
      "cell_type": "code",
      "source": [
        "# Exercicio 11\n",
        "\n",
        "palavra = 'Pygeopro'.upper()\n",
        "\n",
        "print('Jogo da Forca')\n",
        "print('Descubra a palavra')\n",
        "\n",
        "print('A palavra tem', len(palavra), 'letras', end='')\n",
        "for letra in palavra:\n",
        "  print(f'_', end=\"\")\n",
        "\n",
        "conjunto_letras_palavras = set(palavra)\n",
        "conjunto_declaradas = set()\n",
        "erro = 0\n",
        "\n",
        "while (not conjunto_letras_palavras.issubset(conjunto_declaradas)) and erro < 7:\n",
        "  print()\n",
        "  print()\n",
        "  letra_digitada = input('Digite uma letra; ').upper()\n",
        "  conjunto_declaradas.add(letra_digitada)\n",
        "  if letra_digitada in conjunto_letras_palavras:\n",
        "    print(f'_', end=\"\") \n",
        "    for letra in palavra:\n",
        "      if letra in conjunto_declaradas:\n",
        "        print(f'{letra}', end=\"\")\n",
        "      else:\n",
        "        print('_', end=\"\")\n",
        "  else:\n",
        "    erro += 1\n",
        "    print(f' -> Erro {erro} de 6. Tente novamente')\n",
        "\n",
        "print()\n",
        "print('Letras digitadas: ', conjunto_declaradas)\n",
        "\n",
        "if erro < 7:\n",
        "  print('Parabéns, You Win')\n",
        "else:\n",
        "  ('Game Over')\n"
      ],
      "metadata": {
        "id": "yC8wgOdqt98Z"
      },
      "execution_count": null,
      "outputs": []
    },
    {
      "cell_type": "code",
      "source": [
        "# Exercício 5 \n",
        "\n",
        "s = 'fulano'.upper()\n",
        "\n",
        "while s != '':\n",
        "  print(s)\n",
        "  s = s[:-1]\n",
        "print(s)\n",
        "\n"
      ],
      "metadata": {
        "colab": {
          "base_uri": "https://localhost:8080/"
        },
        "id": "_FcFnQffsY-R",
        "outputId": "6bebb617-899f-4b0c-b32d-b996eee38016"
      },
      "execution_count": null,
      "outputs": [
        {
          "output_type": "stream",
          "name": "stdout",
          "text": [
            "FULANO\n",
            "FULAN\n",
            "FULA\n",
            "FUL\n",
            "FU\n",
            "F\n",
            "\n"
          ]
        }
      ]
    },
    {
      "cell_type": "code",
      "source": [
        "''' Desafio 1 '''\n",
        "\n",
        "def validar(ip:str) -> bool:\n",
        "  numeros = ip.split('.')\n",
        "\n",
        "  if len(numeros) != 4:\n",
        "    return False\n",
        "\n",
        "  for n in numeros:\n",
        "    if not (0 <= int(n) <= 255):\n",
        "      return False\n",
        "  return True\n",
        "\n",
        "ip_validos = []\n",
        "ip_invalidos = []\n",
        "\n",
        "with open('sample_data/endereco_ip.txt', 'r') as arquivo:\n",
        "  for linha in arquivo:\n",
        "    ip = linha.strip()\n",
        "    if validar(ip):\n",
        "      ip_validos.append(ip)\n",
        "    else:\n",
        "      ip_invalidos.append(ip)\n",
        "\n",
        "\n",
        "with open('sample_data/ip_saida.txt', 'w+') as arquivo:\n",
        "  arquivo.writelines('[Endereços de Ip válidos:]\\n')\n",
        "  \n",
        "  for ip in ip_validos:\n",
        "    arquivo.writelines(f'{ip}\\n')\n",
        "\n",
        "  arquivo.writelines('\\n')\n",
        "  arquivo.writelines('\\n')\n",
        "  arquivo.writelines('[Endereços de Ip inválidos:]\\n')\n",
        "\n",
        "  for ip in ip_invalidos:\n",
        "    arquivo.writelines(f'{ip}\\n')"
      ],
      "metadata": {
        "id": "UYhgeU2S16Nt"
      },
      "execution_count": null,
      "outputs": []
    },
    {
      "cell_type": "code",
      "source": [
        "# Exercício 2\n",
        "\n",
        "lista_de_dados = []\n",
        "\n",
        "def transformar_em_megabytes(tamanho_em_bytes:str) -> float:\n",
        "  return int(tamanho_em_bytes) / ((2 ** 10) ** 2)\n",
        "\n",
        "with open('sample_data/usuarios.txt', 'r') as arquivo:\n",
        "  for linha in arquivo:\n",
        "    linha = linha.strip()\n",
        "    usuario = linha[:15]\n",
        "    tamanho_em_disco = transformar_em_megabytes(linha[16:])\n",
        "    lista_de_dados.append((usuario, tamanho_em_disco))\n",
        "\n",
        "\n",
        "cabecalho ='''ACME Inc.               Uso do espaço em disco pelos usuários\n",
        "------------------------------------------------------------------------\n",
        "Nr.  Usuário        Espaço utilizado     % do uso\n",
        "'''\n",
        "\n",
        "with open('sample_data/relatorio.txt', 'w') as arquivo:\n",
        "  tamanho_total_consumido = sum(tamanho for _,tamanho in lista_de_dados)\n",
        "  media = tamanho_total_consumido / len(lista_de_dados)  \n",
        "  arquivo.writelines(cabecalho)\n",
        "  for indice, dados in enumerate(lista_de_dados, start=1):\n",
        "    usuario, tamanho_em_disco = dados\n",
        "    arquivo.writelines(\n",
        "              f'{indice:<4} {usuario} {tamanho_em_disco:9.2f} MB           '\n",
        "              f'{tamanho_em_disco/tamanho_total_consumido:<6.2%}\\n'\n",
        "                       )\n",
        "  arquivo.writelines('\\n')\n",
        "  arquivo.writelines(f'Espaço total ocupado: {tamanho_total_consumido:.2f} MB\\n')\n",
        "  arquivo.writelines(f'Espaço médio ocupado: {media:.2f} MB')             \n"
      ],
      "metadata": {
        "id": "NO5gHHTe52nO"
      },
      "execution_count": null,
      "outputs": []
    },
    {
      "cell_type": "code",
      "source": [
        "# Exercício 1\n",
        "\n",
        "class CirculoPerfeito:\n",
        "  \n",
        "  def __init__(self): # Cria atributos de classes, atributos de dados são iniciados a partir do __init__()\n",
        "    self.cor = 'Azul'\n",
        "    self.circunferencia = 4\n",
        "    self.material = 'Papel'\n",
        "\n",
        "\n",
        "  def mostra_cor(self):\n",
        "    return self.cor\n",
        "\n",
        "  def troca_cor(self, cor):\n",
        "    self.cor = cor\n",
        "\n",
        "  pass\n",
        "\n",
        "circulo_primeiro = CirculoPerfeito()\n",
        "circulo_segundo = CirculoPerfeito()\n",
        "circulo_segundo.troca_cor('Amarelo') \n",
        "print(type(circulo_primeiro))\n",
        "print(circulo_primeiro is circulo_segundo)\n",
        "print(id(circulo_primeiro), circulo_primeiro.mostra_cor())\n",
        "print(id(circulo_segundo), circulo_segundo.mostra_cor())\n",
        "\n",
        "\n"
      ],
      "metadata": {
        "colab": {
          "base_uri": "https://localhost:8080/"
        },
        "id": "eJNQUHK2q4SE",
        "outputId": "09037a48-c26e-49b2-a82b-8dc220a6f8a5"
      },
      "execution_count": null,
      "outputs": [
        {
          "output_type": "stream",
          "name": "stdout",
          "text": [
            "<class '__main__.CirculoPerfeito'>\n",
            "False\n",
            "139789562894160 Azul\n",
            "139789562895888 Amarelo\n"
          ]
        }
      ]
    },
    {
      "cell_type": "code",
      "source": [
        "'''Desafio 2'''\n",
        "\n",
        "class Quadrado:\n",
        "\n",
        "  def __init__(self, lado):\n",
        "    self.lado = lado\n",
        "\n",
        "  def calcular_area(self):\n",
        "    return self.lado ** 2\n",
        "\n",
        "  \n",
        "quadrado = Quadrado(4) # Criação do objeto 'quadrado' letras minusculas\n",
        "\n",
        "print(quadrado.lado, quadrado.calcular_area())\n",
        "\n"
      ],
      "metadata": {
        "colab": {
          "base_uri": "https://localhost:8080/"
        },
        "id": "RlHeD-uc662e",
        "outputId": "b8f9b35e-95c6-4ab5-f6e7-8f62f7243085"
      },
      "execution_count": null,
      "outputs": [
        {
          "output_type": "stream",
          "name": "stdout",
          "text": [
            "4 16\n"
          ]
        }
      ]
    },
    {
      "cell_type": "code",
      "source": [
        "# Exercício 4\n",
        "\n",
        "class Pessoa:\n",
        "\n",
        "  def __init__(self, nome, idade, peso, altura):\n",
        "    self.nome = nome\n",
        "    self.idade = idade\n",
        "    self.peso = peso\n",
        "    self.altura = altura\n",
        "\n",
        "  def envelhecer(self):\n",
        "    if self.idade < 21:\n",
        "      self.altura += 0.5\n",
        "    self.idade += 1\n",
        "\n",
        "otavio = Pessoa('Otavio', 2, 12, 80)\n",
        "\n",
        "for _ in range(22):\n",
        "   otavio.envelhecer()\n",
        "   print(f'idade de {otavio.nome} é: {otavio.idade} anos. E sua altura é {otavio.altura} cm')\n",
        "\n"
      ],
      "metadata": {
        "id": "jtx59iQa-ZUF"
      },
      "execution_count": null,
      "outputs": []
    },
    {
      "cell_type": "code",
      "source": [
        "# Exercício 2\n",
        "\n",
        "class Quadrado:\n",
        "\n",
        "  def __init__(self, lado = 1):\n",
        "    self.lado = lado\n",
        "\n",
        "  def calcular_area(self):\n",
        "    return self.lado ** 2\n",
        "\n",
        "quadrado = Quadrado(4) \n",
        "print(quadrado.lado, quadrado.calcular_area())\n",
        "\n"
      ],
      "metadata": {
        "id": "xTBTN7LHCZRG",
        "colab": {
          "base_uri": "https://localhost:8080/"
        },
        "outputId": "77678fda-69d5-45bf-f66e-65dbd174075a"
      },
      "execution_count": null,
      "outputs": [
        {
          "output_type": "stream",
          "name": "stdout",
          "text": [
            "4 16\n"
          ]
        }
      ]
    },
    {
      "cell_type": "code",
      "source": [
        "# Exercício 10\n",
        "\n",
        "class BombaCombustivel:\n",
        "  def __init__(self, tipo_combustivel: str, valor_litro: float, quantidade_combustivel: float):\n",
        "    self.valor_litro = valor_litro\n",
        "    self.tipo_combustivel = tipo_combustivel\n",
        "    self.quantidade_combustivel = quantidade_combustivel\n",
        "  \n",
        "  def abastecer_por_valor(self, valor:float):\n",
        "    litros_abastecidos = valor / self.valor_litro\n",
        "    self._apresentar_abastecimento_se_possivel(litros_abastecidos, valor)\n",
        "\n",
        "  def _apresentar_abastecimento_se_possivel(self, litros_abastecidos:float, valor:float):\n",
        "    if litros_abastecidos > self.quantidade_combustivel:\n",
        "      print(f'Não é possível abastecer, faltam {litros_abastecidos - self.quantidade_combustivel:.2f} litros')\n",
        "      print('Reabasteça a bomba')\n",
        "    else: \n",
        "      self.quantidade_combustivel -= litros_abastecidos\n",
        "      print(f'Foram abastecidos {litros_abastecidos:.2f} litros a um valor de R$ {valor:.2f}')\n",
        "      print(f'Sobraram na bomba {self.quantidade_combustivel:.2f} litros de {self.tipo_combustivel}')\n",
        "\n",
        "  def abastecer_por_litros(self, litros_abastecidos:float):\n",
        "    valor = litros_abastecidos * self.valor_litro\n",
        "    self._apresentar_abastecimento_se_possivel(litros_abastecidos, valor)\n",
        "    \n",
        "  def adicionar_mais_combustivel(self, quantidade:float):\n",
        "    if quantidade >= 0:\n",
        "      self.quantidade_combustivel += quantidade\n",
        "    else:\n",
        "      print('É necessário carregar a bomba')\n",
        "\n",
        "bomba = BombaCombustivel('Gasolina', 4.59, 100.0)\n",
        "bomba.abastecer_por_valor(100.0)\n",
        "bomba.abastecer_por_litros(50.0)\n",
        "\n",
        "bomba.valor_litro = 5.59\n",
        "bomba.abastecer_por_litros(50)\n",
        "\n",
        "bomba.adicionar_mais_combustivel(-100)\n",
        "bomba.abastecer_por_litros(50)"
      ],
      "metadata": {
        "colab": {
          "base_uri": "https://localhost:8080/"
        },
        "id": "4MR-XeLIJTv-",
        "outputId": "6ee373d4-c9ee-40ec-ef1b-aad1886ce53d"
      },
      "execution_count": null,
      "outputs": [
        {
          "output_type": "stream",
          "name": "stdout",
          "text": [
            "Foram abastecidos 21.79 litros a um valor de R$ 100.00\n",
            "Sobraram na bomba 78.21 litros de Gasolina\n",
            "Foram abastecidos 50.00 litros a um valor de R$ 229.50\n",
            "Sobraram na bomba 28.21 litros de Gasolina\n",
            "Não é possível abastecer, faltam 21.79 litros\n",
            "Reabasteça a bomba\n",
            "É necessário carregar a bomba\n",
            "Não é possível abastecer, faltam 21.79 litros\n",
            "Reabasteça a bomba\n"
          ]
        }
      ]
    },
    {
      "cell_type": "code",
      "source": [
        ""
      ],
      "metadata": {
        "id": "9n-_hg3fHx6O"
      },
      "execution_count": null,
      "outputs": []
    }
  ]
}